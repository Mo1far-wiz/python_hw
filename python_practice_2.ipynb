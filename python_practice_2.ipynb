{
  "cells": [
    {
      "cell_type": "markdown",
      "metadata": {
        "id": "p9wwt0LZzNvn"
      },
      "source": [
        "# I. Змінні та памʼять."
      ]
    },
    {
      "cell_type": "markdown",
      "metadata": {
        "id": "HTJrrm95xSV9"
      },
      "source": [
        "1. Створити змінні, що посилаються на два цілих числа, що однакові за значенням, де значення належить проміжку від -5 до 256. Перевірте, чи будуть ці змінні рівні тільки за значенням або ж ще будуть посилатися на один і той самий обʼєкт в памʼяті? Наведіть код та дайте текстову відповідь нижче."
      ]
    },
    {
      "cell_type": "code",
      "execution_count": 11,
      "metadata": {
        "id": "TATni2vzayjG"
      },
      "outputs": [
        {
          "name": "stdout",
          "output_type": "stream",
          "text": [
            "Same value 5\n",
            "Same addres 4323943376\n"
          ]
        }
      ],
      "source": [
        "a = 5\n",
        "b = 4\n",
        "b += 1\n",
        "if a == b :  \n",
        "    print(\"Same value {}\".format(a))\n",
        "else :\n",
        "    print(\"Different values  a {}, b {}\".format(a, b))\n",
        "\n",
        "if a is b : \n",
        "    print(\"Same address {}\".format(id(a)))\n",
        "else :\n",
        "    print(\"Different addresses a {}, b {}\".format(id(a), id(b)))"
      ]
    },
    {
      "cell_type": "markdown",
      "metadata": {
        "id": "zfRG_o3WbRdg"
      },
      "source": [
        "*місце для текстової відповіді"
      ]
    },
    {
      "cell_type": "markdown",
      "metadata": {
        "id": "ISORzt6M3vAt"
      },
      "source": [
        "2. За допомогою якої функції можна перевірити належність змінної до вказаного типу даних (напр. чи змінна True посилається на значення булевого та цілочисленого типу)?"
      ]
    },
    {
      "cell_type": "code",
      "execution_count": 13,
      "metadata": {
        "id": "9vL9CFaMbfyo"
      },
      "outputs": [
        {
          "name": "stdout",
          "output_type": "stream",
          "text": [
            "Type a - <class 'float'> \n",
            "Type b - <class 'str'> \n",
            "Type c - <class 'dict'>\n"
          ]
        }
      ],
      "source": [
        "a = 1.0\n",
        "b = \"🚀\"\n",
        "c = {}\n",
        "print(\"Type a - {} \\nType b - {} \\nType c - {}\".format(type(a), type(b), type(c)))"
      ]
    },
    {
      "cell_type": "markdown",
      "metadata": {
        "id": "tRxugKAxwYLw"
      },
      "source": [
        "# II. Цілі числа та числа з рухомою комою"
      ]
    },
    {
      "cell_type": "markdown",
      "metadata": {
        "id": "NLHkgd5Gybc8"
      },
      "source": [
        "3. Створити дві змінні, що посилаються на будь-які ціле число та число з рухомою комою та продемонструвати такі арифметичні операції: додавання, віднімання, ділення, множення, ділення без залишку, ділення по модулю, приведення до ступеню. Всі результати операцій вивести на екран."
      ]
    },
    {
      "cell_type": "code",
      "execution_count": 22,
      "metadata": {
        "id": "nb8u_3pjb2cA"
      },
      "outputs": [
        {
          "name": "stdout",
          "output_type": "stream",
          "text": [
            "Addition : 22.08001,\n",
            "\ttype of res : <class 'float'>\n",
            "Subtraction : 5.91999,\n",
            "\ttype of res : <class 'float'>\n",
            "Division : 1.7326711229317786,\n",
            "\ttype of res : <class 'float'>\n",
            "Multiplication : 113.12013999999999,\n",
            "\ttype of res : <class 'float'>\n",
            "Cringe division : 1.0,\n",
            "\ttype of res : <class 'float'>\n",
            "Mod : 5.91999,\n",
            "\ttype of res : <class 'float'>\n",
            "Power : 1822745310.459934,\n",
            "\ttype of res :<class 'float'>\n"
          ]
        }
      ],
      "source": [
        "a = 14\n",
        "b = 8.08001\n",
        "\n",
        "res = a + b\n",
        "print(\"Addition : {},\\n\\ttype of res : {}\".format(res, type(res)))\n",
        "res = a - b\n",
        "print(\"Subtraction : {},\\n\\ttype of res : {}\".format(res, type(res)))\n",
        "res = a / b\n",
        "print(\"Division : {},\\n\\ttype of res : {}\".format(res, type(res)))\n",
        "res = a * b\n",
        "print(\"Multiplication : {},\\n\\ttype of res : {}\".format(res, type(res)))\n",
        "res = a // b\n",
        "print(\"Cringe division : {},\\n\\ttype of res : {}\".format(res, type(res)))\n",
        "res = a % b\n",
        "print(\"Mod : {},\\n\\ttype of res : {}\".format(res, type(res)))\n",
        "res = a**b\n",
        "print(\"Power : {},\\n\\ttype of res :{}\".format(res, type(res)))"
      ]
    },
    {
      "cell_type": "markdown",
      "metadata": {
        "id": "1kBClKgPzZnC"
      },
      "source": [
        "4. Використовуючи змінні з вправи 3, продемонструйте механізм явного перетворення типів, де числа з рухомою комою перетворюються на цілі числа. Також визначте змінну, що посилається на значення булевого типу і спробуйте явно привести її до цілого числа."
      ]
    },
    {
      "cell_type": "code",
      "execution_count": 29,
      "metadata": {
        "id": "TbqJbkeUcKsD"
      },
      "outputs": [
        {
          "name": "stdout",
          "output_type": "stream",
          "text": [
            "Addition : 148.8001,\n",
            "\ttype of res : <class 'str'>\n",
            "Subtraction : 5.1998999999999995,\n",
            "\ttype of res : <class 'float'>\n",
            "Division : (1.5908910126021294+0j),\n",
            "\ttype of res : <class 'complex'>\n",
            "Multiplication : 112,\n",
            "\ttype of res : <class 'int'>\n",
            "Cringe division : 14,\n",
            "\ttype of res : <class 'int'>\n",
            "Mod : 6.0,\n",
            "\ttype of res : <class 'float'>\n",
            "Power : (1+0j),\n",
            "\ttype of res :<class 'complex'>\n"
          ]
        }
      ],
      "source": [
        "a = 14\n",
        "b = 8.8001\n",
        "\n",
        "res = str(a) + str(b)\n",
        "print(\"Addition : {},\\n\\ttype of res : {}\".format(res, type(res)))\n",
        "res = float(a) - b\n",
        "print(\"Subtraction : {},\\n\\ttype of res : {}\".format(res, type(res)))\n",
        "res = complex(a) / b\n",
        "print(\"Division : {},\\n\\ttype of res : {}\".format(res, type(res)))\n",
        "res = int(a) * int(b)\n",
        "print(\"Multiplication : {},\\n\\ttype of res : {}\".format(res, type(res)))\n",
        "res = a // bool(b)\n",
        "print(\"Cringe division : {},\\n\\ttype of res : {}\".format(res, type(res)))\n",
        "res = float(a) % int(b)\n",
        "print(\"Mod : {},\\n\\ttype of res : {}\".format(res, type(res)))\n",
        "res = bool(a)**complex(b)\n",
        "print(\"Power : {},\\n\\ttype of res :{}\".format(res, type(res)))"
      ]
    },
    {
      "cell_type": "markdown",
      "metadata": {
        "id": "EVJ7AflwxrZi"
      },
      "source": [
        "# IІІ. Рядки (String)."
      ]
    },
    {
      "cell_type": "markdown",
      "metadata": {
        "id": "_s5ECzz9zE61"
      },
      "source": [
        "5. Створити пустий рядок двома різними способами."
      ]
    },
    {
      "cell_type": "code",
      "execution_count": 30,
      "metadata": {
        "id": "fkZJHu9Scvc-"
      },
      "outputs": [
        {
          "name": "stdout",
          "output_type": "stream",
          "text": [
            "\n",
            "\n"
          ]
        }
      ],
      "source": [
        "a = \"\"\n",
        "b = str()\n",
        "print(a)\n",
        "print(b)"
      ]
    },
    {
      "cell_type": "markdown",
      "metadata": {
        "id": "4Bdn9J3MzLf_"
      },
      "source": [
        "6. Створити рядок з апострофом. Зробити його сирим. Вивести обидва рядка на екран."
      ]
    },
    {
      "cell_type": "code",
      "execution_count": 1,
      "metadata": {
        "id": "ivji_hsmc0GH"
      },
      "outputs": [],
      "source": [
        "raw = r\"Kwa' s\""
      ]
    },
    {
      "cell_type": "markdown",
      "metadata": {
        "id": "bg_d8wM4z8dS"
      },
      "source": [
        "7. Створити змінну, що буде посилатися на Ваше прізвище латинкою. Створити форматований рядок, який буде мати вигляд \"My surname is ______\", де на місці нижніх підкреслень буде Ваше прізвище зі змінної."
      ]
    },
    {
      "cell_type": "code",
      "execution_count": 2,
      "metadata": {
        "id": "kuxFgpWndACq"
      },
      "outputs": [
        {
          "name": "stdout",
          "output_type": "stream",
          "text": [
            "My surname is Prokhorov\n"
          ]
        }
      ],
      "source": [
        "sur = \"Prokhorov\"\n",
        "print(f\"My surname is {sur}\")"
      ]
    },
    {
      "cell_type": "markdown",
      "metadata": {
        "id": "1Nc6RqvQ0hxU"
      },
      "source": [
        "8. Маючи рядок \"My dog is crazy.\" перетворити його на список [\"my\", \"dog\", \"is\", \"crazy\"]"
      ]
    },
    {
      "cell_type": "code",
      "execution_count": 3,
      "metadata": {
        "id": "w1Ya4RqedUhw"
      },
      "outputs": [
        {
          "name": "stdout",
          "output_type": "stream",
          "text": [
            "['My', 'dog', 'is', 'crazy']\n"
          ]
        }
      ],
      "source": [
        "a = \"My dog is crazy.\"\n",
        "b = a.replace(\".\",\"\").split(\" \")\n",
        "print(b)"
      ]
    },
    {
      "cell_type": "markdown",
      "metadata": {
        "id": "GYVqN9uP1D4n"
      },
      "source": [
        "# IV. Робота зі списками."
      ]
    },
    {
      "cell_type": "markdown",
      "metadata": {
        "id": "7-DeDunw2sO-"
      },
      "source": [
        "9. Створити список двома різними за синтаксисом способами. За допомогою вбудованої функції обчисліть довжину одного з них."
      ]
    },
    {
      "cell_type": "code",
      "execution_count": 7,
      "metadata": {
        "id": "zxg06Uuxdyoh"
      },
      "outputs": [
        {
          "name": "stdout",
          "output_type": "stream",
          "text": [
            "size1 : 3\n"
          ]
        }
      ],
      "source": [
        "l1 = {1, 2, 4}\n",
        "l2 = [1, 2, 3, 4]\n",
        "\n",
        "print(f\"size1 : {len(l1)}\")"
      ]
    },
    {
      "cell_type": "markdown",
      "metadata": {
        "id": "8vmGUTjL22gI"
      },
      "source": [
        "10. Створіть два списка та за допомогою спеціального методу додайте другий з них в якості останнього елемента першого."
      ]
    },
    {
      "cell_type": "code",
      "execution_count": 17,
      "metadata": {
        "id": "uHtjWYw7d7hm"
      },
      "outputs": [
        {
          "name": "stdout",
          "output_type": "stream",
          "text": [
            "[1, 4, [8, 8]]\n"
          ]
        }
      ],
      "source": [
        "l1 = [1, 4]\n",
        "l2 = [8, 8]\n",
        "l1.append(l2)\n",
        "print(l1)"
      ]
    },
    {
      "cell_type": "markdown",
      "metadata": {
        "id": "JC3BkD-67_--"
      },
      "source": [
        "11. Створіть список, де елементами цього списку також є списки. Отримай перший елемент з останнього рядка та виведи значення на екран."
      ]
    },
    {
      "cell_type": "code",
      "execution_count": 18,
      "metadata": {
        "id": "Kz2jZHsGeLlz"
      },
      "outputs": [
        {
          "name": "stdout",
          "output_type": "stream",
          "text": [
            "5\n"
          ]
        }
      ],
      "source": [
        "l = [[1,2], [3,4], [5,6]]\n",
        "print(l[len(l) - 1][0])"
      ]
    },
    {
      "cell_type": "markdown",
      "metadata": {
        "id": "JA47PKTv8zFK"
      },
      "source": [
        "12. Створіть список з десяти елементів різного типу. Отримайте всі елементи, окрім двох перших та двох останніх та збережіть їх в новій змінній."
      ]
    },
    {
      "cell_type": "code",
      "execution_count": 19,
      "metadata": {
        "id": "_rHdUR-ueP4-"
      },
      "outputs": [
        {
          "name": "stdout",
          "output_type": "stream",
          "text": [
            "[3.0, True, [4, 5], {'key': 6}, (7, 8), None]\n"
          ]
        }
      ],
      "source": [
        "l = [1, \"two\", 3.0, True, [4, 5], {\"key\": 6}, (7, 8), None, \"nine\", 10]\n",
        "l_new = l[2:-2]\n",
        "print(l_new)"
      ]
    },
    {
      "cell_type": "markdown",
      "metadata": {
        "id": "pCjR1dJb1Qbi"
      },
      "source": [
        "# V. Робота з кортежами."
      ]
    },
    {
      "cell_type": "markdown",
      "metadata": {
        "id": "fAZCxAX06R_k"
      },
      "source": [
        "14. Створити кортеж з один елементом."
      ]
    },
    {
      "cell_type": "code",
      "execution_count": 20,
      "metadata": {
        "id": "H7d82WkQev3e"
      },
      "outputs": [
        {
          "name": "stdout",
          "output_type": "stream",
          "text": [
            "(1,)\n"
          ]
        }
      ],
      "source": [
        "k = (1,)\n",
        "print(k)"
      ]
    },
    {
      "cell_type": "markdown",
      "metadata": {
        "id": "8LCtYcmI6w1M"
      },
      "source": [
        "15. Порівняйте список та кортеж. Назвіть схожості та відмінності, випадки використання."
      ]
    },
    {
      "cell_type": "markdown",
      "metadata": {
        "id": "fUsN1Hnue0C6"
      },
      "source": [
        "у списків можна міняти розмір, сортувати і взагалі робити багато класного. а кортеж це скоріше склеїні в одну змінні."
      ]
    },
    {
      "cell_type": "markdown",
      "metadata": {
        "id": "m0xrwFijAmDD"
      },
      "source": [
        "16. Створіть кортеж з 11ти елементів чисел з рухомою комою та отримайте кожен парний за індексом елемент в зворотньому порядку. Наприклад, маючи (1.2, 2.3, 3.3, 4.3, 5.3, 6.3, 7.3, 8.3, 9.3, 0.3), отримати (0.3, 8.3, 6.3, 4.3, 2.3). Результат збережіть в нову змінну та виведіть на екран."
      ]
    },
    {
      "cell_type": "code",
      "execution_count": 23,
      "metadata": {
        "id": "p-5DAH6XfAGA"
      },
      "outputs": [
        {
          "name": "stdout",
          "output_type": "stream",
          "text": [
            "(0.3, 8.3, 6.3, 4.3, 2.3)\n"
          ]
        }
      ],
      "source": [
        "l = (1.2, 2.3, 3.3, 4.3, 5.3, 6.3, 7.3, 8.3, 9.3, 0.3, -2.3333333)\n",
        "new = l[-2::-2]\n",
        "print(new)"
      ]
    },
    {
      "cell_type": "markdown",
      "metadata": {
        "id": "rW_I9dt3x6cW"
      },
      "source": [
        "# VI. Множини (Set)."
      ]
    },
    {
      "cell_type": "markdown",
      "metadata": {
        "id": "zNjRLHLw1Bgg"
      },
      "source": [
        "17. Створити множину без елементів. Після цого за допомогою методу додайте кілька різних елементів до множини. Чи множини є змінним типом даних?"
      ]
    },
    {
      "cell_type": "code",
      "execution_count": 27,
      "metadata": {
        "id": "KOv7zc2Kfo4N"
      },
      "outputs": [
        {
          "name": "stdout",
          "output_type": "stream",
          "text": [
            "{11, 'cringe'}\n"
          ]
        }
      ],
      "source": [
        "s = set()\n",
        "s.add(\"cringe\")\n",
        "s.add(11)\n",
        "s.add(11)\n",
        "print(s)"
      ]
    },
    {
      "cell_type": "markdown",
      "metadata": {
        "id": "vxS6dVYiftZQ"
      },
      "source": [
        "так, головна ідея сета - змінна множина без повторень, яка може зберігати багато елементів і легко до них доступатись через хеш"
      ]
    },
    {
      "cell_type": "markdown",
      "metadata": {
        "id": "gHpT0Zw_1HEF"
      },
      "source": [
        "18. Створити множину, маючи список my_list = [1, 1, 2, 67, 67, 8, 9]. Пояснити, чому \"зникли\" деякі елементи."
      ]
    },
    {
      "cell_type": "code",
      "execution_count": 32,
      "metadata": {
        "id": "qCN4uvJ_fxmu"
      },
      "outputs": [
        {
          "name": "stdout",
          "output_type": "stream",
          "text": [
            "{1, 2, 67, 8, 9}\n"
          ]
        }
      ],
      "source": [
        "my_list = [1, 1, 2, 67, 67, 8, 9]\n",
        "s = set(my_list)\n",
        "print(s)"
      ]
    },
    {
      "cell_type": "markdown",
      "metadata": {
        "id": "tFNc1e20fyny"
      },
      "source": [
        "бо береться хеш елементу як ключ, тому нема повторень"
      ]
    },
    {
      "cell_type": "markdown",
      "metadata": {
        "id": "SRMkGizS1UwY"
      },
      "source": [
        "19. Створіть дві множини. Продемонстуйте над ними операції: обʼєднання, різниці, пересічі та симетричної різниці. Використовуйте методи, що не змінюють множини, а створюють нові."
      ]
    },
    {
      "cell_type": "code",
      "execution_count": 33,
      "metadata": {
        "id": "h0T-VuDnf3Ri"
      },
      "outputs": [
        {
          "name": "stdout",
          "output_type": "stream",
          "text": [
            "Об'єднання :  {1, 2, 3, 4, 5, 6, 7, 8}\n",
            "Різниця :  {1, 2, 3}\n",
            "Перетин :  {4, 5}\n",
            "Симетрична різниця :  {1, 2, 3, 6, 7, 8}\n"
          ]
        }
      ],
      "source": [
        "s1 = {1, 2, 3, 4, 5}\n",
        "s2 = {4, 5, 6, 7, 8}\n",
        "\n",
        "union_set = s1.union(s2)\n",
        "print(\"Об'єднання : \", union_set)\n",
        "difference_set = s1.difference(s2)\n",
        "print(\"Різниця : \", difference_set)\n",
        "intersection_set = s1.intersection(s2)\n",
        "print(\"Перетин : \", intersection_set)\n",
        "symmetric_difference_set = s1.symmetric_difference(s2)\n",
        "print(\"Симетрична різниця : \", symmetric_difference_set)\n"
      ]
    },
    {
      "cell_type": "markdown",
      "metadata": {
        "id": "kWc8gkzTx7Ea"
      },
      "source": [
        "# VII. Словники (Dictionary)."
      ]
    },
    {
      "cell_type": "markdown",
      "metadata": {
        "id": "i5FLwj-B2ybQ"
      },
      "source": [
        "20. Створіть пустий словник. До нього додайте чотири пари елементів такі, щоб їхні ключі були різних типів. Чи може список бути ключем? Чому?"
      ]
    },
    {
      "cell_type": "code",
      "execution_count": 34,
      "metadata": {
        "id": "hxgv3BzrgLAV"
      },
      "outputs": [
        {
          "name": "stdout",
          "output_type": "stream",
          "text": [
            "{'дуже': 12, 'різні': 'типи', 1.2: {1, 2, '3'}, True: False}\n"
          ]
        }
      ],
      "source": [
        "d = {}\n",
        "\n",
        "d[\"дуже\"] =  12\n",
        "d[r\"різні\"] = 'типи'\n",
        "d[1.2] = set([1,2,\"3\"])\n",
        "d[True] = False\n",
        "print(d)"
      ]
    },
    {
      "cell_type": "markdown",
      "metadata": {
        "id": "zwa7UVN-gR3m"
      },
      "source": [
        "від будь-яких данних можна взяти хеш, бо будь-що можна представити у вигляді 0 і 1, тому будь-що може бути ключем"
      ]
    },
    {
      "cell_type": "markdown",
      "metadata": {
        "id": "WM_pMlJsgoNf"
      },
      "source": [
        "21. Створіть словник, де значенням в одній з пар теж буде словник, який теж має вкладений словник. Виведіть на екран значення, що міститься в словнику, що знаходиться на найнижчому рівні ієрархії вкладеності (найбільш внутрішній)."
      ]
    },
    {
      "cell_type": "code",
      "execution_count": 40,
      "metadata": {
        "id": "60dlP7IHhAy4"
      },
      "outputs": [
        {
          "name": "stdout",
          "output_type": "stream",
          "text": [
            "Дуже словник :  і це все словник\n"
          ]
        }
      ],
      "source": [
        "d = {\n",
        "    \"словник\": \"у якого\",\n",
        "    \"ключ це\": {\n",
        "        \"словник\": \"і у цього словника\",\n",
        "        \"ще один ключ\": {\n",
        "            \"словник\": \"і це все словник\" \n",
        "        }\n",
        "    }\n",
        "}\n",
        "\n",
        "dv = d[\"ключ це\"][\"ще один ключ\"][\"словник\"]\n",
        "print(\"Дуже словник : \", dv)\n"
      ]
    },
    {
      "cell_type": "markdown",
      "metadata": {
        "id": "xOZP0hkx6cCr"
      },
      "source": [
        "# Вітаю! Ви велика(ий) молодець, що впоралась(вся). Похваліть себе та побалуйте чимось приємним. Я Вами пишаюся."
      ]
    }
  ],
  "metadata": {
    "colab": {
      "provenance": []
    },
    "kernelspec": {
      "display_name": "Python 3",
      "name": "python3"
    },
    "language_info": {
      "codemirror_mode": {
        "name": "ipython",
        "version": 3
      },
      "file_extension": ".py",
      "mimetype": "text/x-python",
      "name": "python",
      "nbconvert_exporter": "python",
      "pygments_lexer": "ipython3",
      "version": "3.11.7"
    }
  },
  "nbformat": 4,
  "nbformat_minor": 0
}
